{
 "cells": [
  {
   "cell_type": "code",
   "execution_count": null,
   "metadata": {},
   "outputs": [],
   "source": [
    "import numpy as np\n",
    "import matplotlib.pyplot as plt\n",
    "plt.rcParams['figure.figsize'] = [15,5]"
   ]
  },
  {
   "cell_type": "code",
   "execution_count": null,
   "metadata": {},
   "outputs": [],
   "source": [
    "np.random.seed(0)"
   ]
  },
  {
   "cell_type": "code",
   "execution_count": null,
   "metadata": {},
   "outputs": [],
   "source": [
    "x = np.arange(0,10,0.1)\n",
    "off = 4\n",
    "y = 2*np.square(x)-6*x+3+np.random.uniform(-off,off,len(x))\n",
    "plt.plot(x,y,'o')\n",
    "plt.grid()\n",
    "plt.show()"
   ]
  },
  {
   "cell_type": "code",
   "execution_count": null,
   "metadata": {},
   "outputs": [],
   "source": [
    "def polyRegression(x,y,deg=1,epoch=1000,alpha=0.05):\n",
    "    if len(x.shape) == 1:\n",
    "        x = np.expand_dims(x,1)\n",
    "    if len(y.shape) == 1:\n",
    "        y = np.expand_dims(y,1)\n",
    "    if deg > 1:\n",
    "        for ii in range(2,deg+1):\n",
    "            x = np.c_[x,np.round(x[:,0]**ii,decimals=2)]\n",
    "            \n",
    "    a,b = x.shape\n",
    "    x = np.c_[np.ones([a,1]),x]\n",
    "    weights = np.random.uniform(0,1,[b,1])\n",
    "    weights = np.matmul(np.matmul(np.linalg.inv(np.matmul(x.T,x)),x.T),y)\n",
    "    return weights"
   ]
  },
  {
   "cell_type": "code",
   "execution_count": null,
   "metadata": {},
   "outputs": [],
   "source": [
    "weight = polyRegression(x,y,epoch=100,deg=4,alpha=0.00001)\n",
    "print(weight)"
   ]
  },
  {
   "cell_type": "code",
   "execution_count": null,
   "metadata": {},
   "outputs": [],
   "source": [
    "temp = weight[0]+weight[1]*x+weight[2]*x**2+weight[3]*x**3+weight[4]*x**4#+weight[5]*x**5\n",
    "plt.plot(x,y,'o')\n",
    "plt.plot(x,temp)\n",
    "plt.grid()\n",
    "plt.show()"
   ]
  },
  {
   "cell_type": "code",
   "execution_count": null,
   "metadata": {},
   "outputs": [],
   "source": [
    "from sklearn.preprocessing import PolynomialFeatures\n",
    "from sklearn.linear_model import LinearRegression"
   ]
  },
  {
   "cell_type": "code",
   "execution_count": null,
   "metadata": {},
   "outputs": [],
   "source": [
    "poly = PolynomialFeatures(degree=4)\n",
    "xPoly = poly.fit_transform(x.reshape(-1,1))\n",
    "poly.fit(xPoly,y)\n",
    "lin = LinearRegression()\n",
    "lin.fit(xPoly,y)"
   ]
  },
  {
   "cell_type": "code",
   "execution_count": null,
   "metadata": {},
   "outputs": [],
   "source": [
    "plt.scatter(x, y, color = 'blue') \n",
    "  \n",
    "plt.plot(x, lin.predict(poly.fit_transform(x.reshape(-1,1))), color = 'red') \n",
    "plt.title('Polynomial Regression')\n",
    "plt.grid()\n",
    "plt.show()"
   ]
  },
  {
   "cell_type": "code",
   "execution_count": null,
   "metadata": {},
   "outputs": [],
   "source": [
    "print('Result from sklearn')\n",
    "for ii in lin.coef_:\n",
    "    print(ii)"
   ]
  },
  {
   "cell_type": "code",
   "execution_count": null,
   "metadata": {},
   "outputs": [],
   "source": [
    "print('Result from polyRegression function')\n",
    "for ii in weight:\n",
    "    print(ii)"
   ]
  },
  {
   "cell_type": "code",
   "execution_count": null,
   "metadata": {},
   "outputs": [],
   "source": []
  }
 ],
 "metadata": {
  "kernelspec": {
   "display_name": "Python 3",
   "language": "python",
   "name": "python3"
  },
  "language_info": {
   "codemirror_mode": {
    "name": "ipython",
    "version": 3
   },
   "file_extension": ".py",
   "mimetype": "text/x-python",
   "name": "python",
   "nbconvert_exporter": "python",
   "pygments_lexer": "ipython3",
   "version": "3.8.3"
  }
 },
 "nbformat": 4,
 "nbformat_minor": 4
}
